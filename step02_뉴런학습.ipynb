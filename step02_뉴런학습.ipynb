{
  "nbformat": 4,
  "nbformat_minor": 0,
  "metadata": {
    "colab": {
      "name": "step02_뉴런학습.ipynb",
      "provenance": [],
      "collapsed_sections": []
    },
    "kernelspec": {
      "name": "python3",
      "display_name": "Python 3"
    }
  },
  "cells": [
    {
      "cell_type": "code",
      "metadata": {
        "id": "1nyZokK7MKTd",
        "colab": {
          "base_uri": "https://localhost:8080/"
        },
        "outputId": "c310dd52-c4df-4329-9a70-e0bbe5aba194"
      },
      "source": [
        "# Google Colab 운영체제 확인\n",
        "import platform\n",
        "print(platform.platform())"
      ],
      "execution_count": 1,
      "outputs": [
        {
          "output_type": "stream",
          "text": [
            "Linux-4.19.112+-x86_64-with-Ubuntu-18.04-bionic\n"
          ],
          "name": "stdout"
        }
      ]
    },
    {
      "cell_type": "code",
      "metadata": {
        "id": "ksLZERzR3n29",
        "colab": {
          "base_uri": "https://localhost:8080/"
        },
        "outputId": "3646cf2e-2f83-4b73-f723-a94ac9f7b5ef"
      },
      "source": [
        "# 텐서플로우 불러오기, 버전 확인\n",
        "import tensorflow as tf\n",
        "print(tf.__version__)"
      ],
      "execution_count": 2,
      "outputs": [
        {
          "output_type": "stream",
          "text": [
            "2.4.1\n"
          ],
          "name": "stdout"
        }
      ]
    },
    {
      "cell_type": "markdown",
      "metadata": {
        "id": "2dR8mqitUEfH"
      },
      "source": [
        "## 랜덤한 수 생성"
      ]
    },
    {
      "cell_type": "code",
      "metadata": {
        "id": "Mq2AtFOl0hS1",
        "colab": {
          "base_uri": "https://localhost:8080/"
        },
        "outputId": "1aeea66e-9a8a-49cf-ee2b-e265cbe1c921"
      },
      "source": [
        "# 랜덤한 수 얻기 (균일 분포)\n",
        "rand = tf.random.uniform([1],0,1)\n",
        "print(rand)"
      ],
      "execution_count": 3,
      "outputs": [
        {
          "output_type": "stream",
          "text": [
            "tf.Tensor([0.12306917], shape=(1,), dtype=float32)\n"
          ],
          "name": "stdout"
        }
      ]
    },
    {
      "cell_type": "code",
      "metadata": {
        "id": "7Fb7DLjQ4i4C",
        "colab": {
          "base_uri": "https://localhost:8080/"
        },
        "outputId": "42ecbd7c-90e6-497a-c02c-e133008c3e03"
      },
      "source": [
        "# 랜덤한 수 여러 개 얻기 (균일 분포)\n",
        "rand = tf.random.uniform([4],0,1)\n",
        "print(rand)"
      ],
      "execution_count": 4,
      "outputs": [
        {
          "output_type": "stream",
          "text": [
            "tf.Tensor([0.9960002  0.12071526 0.32582045 0.8938416 ], shape=(4,), dtype=float32)\n"
          ],
          "name": "stdout"
        }
      ]
    },
    {
      "cell_type": "code",
      "metadata": {
        "id": "jcmeN0232BUz",
        "colab": {
          "base_uri": "https://localhost:8080/"
        },
        "outputId": "467b438b-7705-4399-cb7e-b9d2aa4fc8bd"
      },
      "source": [
        "# 랜덤한 수 여러 개 얻기 (정규 분포)\n",
        "rand = tf.random.normal([4],0,1)\n",
        "print(rand)"
      ],
      "execution_count": 5,
      "outputs": [
        {
          "output_type": "stream",
          "text": [
            "tf.Tensor([-0.3227001   0.36942035 -0.40484625  0.32267934], shape=(4,), dtype=float32)\n"
          ],
          "name": "stdout"
        }
      ]
    },
    {
      "cell_type": "markdown",
      "metadata": {
        "id": "goJriV4SUL4F"
      },
      "source": [
        "## 뉴런 만들기"
      ]
    },
    {
      "cell_type": "code",
      "metadata": {
        "id": "ilkTV9SKmyP5"
      },
      "source": [
        "# sigmoid 함수 : 0~1 사이값으로 제한해서 리턴\n",
        "\n",
        "import math\n",
        "\n",
        "def sigmoid(x):\n",
        "    # 상수 e의 제곱을 계산하기 위해 math.exp() 사용\n",
        "    # x에 시그모이드 함수를 취한 값\n",
        "    return 1 / (1 + math.exp(-x))"
      ],
      "execution_count": 6,
      "outputs": []
    },
    {
      "cell_type": "code",
      "metadata": {
        "id": "bmOY52Sj3p0a",
        "colab": {
          "base_uri": "https://localhost:8080/"
        },
        "outputId": "f207653f-a386-47bd-bdee-2d0fed60d5bc"
      },
      "source": [
        "# 문제 : 뉴런의 입력과 출력 정의 - 입력이 1일때 기대 출력이 0이 되는 뉴런 만들어 보기\n",
        "# 기대 출력이 0이라 할 경우 차를 error라 함\n",
        "# 뉴런의 학습 = 이 에러가 0에 가까워지게 해서 출력으로 기댓값에 가까운 값을 얻는 것\n",
        "\n",
        "x = 1\n",
        "y = 0\n",
        "\n",
        "# 가중치로 정규 분포의 랜덤한 값\n",
        "w = tf.random.normal([1],0,1)  # 정규 분포의 난수 구하는 함수 \n",
        "\n",
        "\n",
        "output = sigmoid(x * w)\n",
        "print(output)"
      ],
      "execution_count": 7,
      "outputs": [
        {
          "output_type": "stream",
          "text": [
            "0.38137220157906093\n"
          ],
          "name": "stdout"
        }
      ]
    },
    {
      "cell_type": "code",
      "metadata": {
        "id": "SQOfPrld8cde",
        "colab": {
          "base_uri": "https://localhost:8080/"
        },
        "outputId": "3bb165b9-369d-4afd-bdea-3c2664ebf47f"
      },
      "source": [
        "# 경사 하강법을 이용한 뉴런의 학습\n",
        "# w에 입력과 학습률과 에러를 곱한 값을 더해줌\n",
        "# 학습률은 w를 업데이트하는 정도\n",
        "# a = 0.1로 설정\n",
        "\n",
        "'''\n",
        "0~999까지 1000번 반복\n",
        "error 는 기대출력인 y에서 실제 출력인 output 빼기\n",
        "여러번 반복해서 x가 1일때 y값이 0에 가까워짐을 확인\n",
        "'''\n",
        "for i in range(1000):\n",
        "    output = sigmoid(x * w)\n",
        "    error = y - output\n",
        "    w = w + x * 0.1 * error\n",
        "    \n",
        "    if i % 100 == 99:\n",
        "        print('순번 : ', i, ' 에러 : ', error, ' 출력 : ', output)"
      ],
      "execution_count": 8,
      "outputs": [
        {
          "output_type": "stream",
          "text": [
            "순번 :  99  에러 :  -0.09263524036416097  출력 :  0.09263524036416097\n",
            "순번 :  199  에러 :  -0.04961400803446758  출력 :  0.04961400803446758\n",
            "순번 :  299  에러 :  -0.03359260927397521  출력 :  0.03359260927397521\n",
            "순번 :  399  에러 :  -0.025321930291052196  출력 :  0.025321930291052196\n",
            "순번 :  499  에러 :  -0.020293836346138454  출력 :  0.020293836346138454\n",
            "순번 :  599  에러 :  -0.01692052807669938  출력 :  0.01692052807669938\n",
            "순번 :  699  에러 :  -0.014503048088767371  출력 :  0.014503048088767371\n",
            "순번 :  799  에러 :  -0.01268679153658078  출력 :  0.01268679153658078\n",
            "순번 :  899  에러 :  -0.01127284239147663  출력 :  0.01127284239147663\n",
            "순번 :  999  에러 :  -0.010141252554322787  출력 :  0.010141252554322787\n"
          ],
          "name": "stdout"
        }
      ]
    },
    {
      "cell_type": "code",
      "metadata": {
        "id": "v6QTKN-Y_Pej",
        "colab": {
          "base_uri": "https://localhost:8080/"
        },
        "outputId": "1e019a01-f9a8-4d12-9da4-dbcf04d3d6d3"
      },
      "source": [
        "# x=0 일 때 y=1 을 얻는 뉴런의 학습시키기\n",
        "# 편향의 필요성 인지하기\n",
        "\n",
        "'''\n",
        "문제발생 : error와 출력 모두 0.5로 변하지 않음\n",
        "입력값 0  따라서 w에 더해지는 데이터는 없음, 즉 1000번 실행하는 동안 w 값 변동 없음\n",
        "'''\n",
        "\n",
        "x = 0\n",
        "y = 1\n",
        "w = tf.random.normal([1],0,1)\n",
        "\n",
        "for i in range(1000):\n",
        "    output = sigmoid(x * w)\n",
        "    error = y - output\n",
        "    w = w + x * 0.1 * error\n",
        "    \n",
        "    if i % 100 == 99:\n",
        "       print('순번 : ', i, ' 에러 : ', error, ' 출력 : ', output)"
      ],
      "execution_count": 9,
      "outputs": [
        {
          "output_type": "stream",
          "text": [
            "순번 :  99  에러 :  0.5  출력 :  0.5\n",
            "순번 :  199  에러 :  0.5  출력 :  0.5\n",
            "순번 :  299  에러 :  0.5  출력 :  0.5\n",
            "순번 :  399  에러 :  0.5  출력 :  0.5\n",
            "순번 :  499  에러 :  0.5  출력 :  0.5\n",
            "순번 :  599  에러 :  0.5  출력 :  0.5\n",
            "순번 :  699  에러 :  0.5  출력 :  0.5\n",
            "순번 :  799  에러 :  0.5  출력 :  0.5\n",
            "순번 :  899  에러 :  0.5  출력 :  0.5\n",
            "순번 :  999  에러 :  0.5  출력 :  0.5\n"
          ],
          "name": "stdout"
        }
      ]
    },
    {
      "cell_type": "code",
      "metadata": {
        "id": "RDkgV0si_CEM",
        "colab": {
          "base_uri": "https://localhost:8080/"
        },
        "outputId": "5523baa9-d5b7-4be8-f64f-656b030e1d52"
      },
      "source": [
        "# 해결책 : 편향(bias)이라는 것 적용\n",
        "# x=0 일 때 y=1 을 얻는 뉴런의 학습에 편향을 더함\n",
        "\n",
        "'''\n",
        "입력으로는 늘 한쪽으로 치우진 고정된 값 가령 1을 받아서 입력으로 0을 받았을 때 \n",
        "뉴런이 아무것도 배우지 못하는 상황 방지\n",
        "\n",
        "편향은 w 처럼 난수로 초기화되며 뉴런에 더해져서 출력 계산\n",
        "\n",
        "결론 : error는 0에 가까워짐, output은 1에 가까워짐\n",
        "'''\n",
        "\n",
        "x = 0\n",
        "y = 1\n",
        "w = tf.random.normal([1],0,1)\n",
        "b = tf.random.normal([1],0,1)\n",
        "\n",
        "for i in range(1000):\n",
        "    output = sigmoid(x * w + 1 * b)\n",
        "    error = y - output\n",
        "    w = w + x * 0.1 * error\n",
        "    b = b + 1 * 0.1 * error\n",
        "    \n",
        "    if i % 100 == 99:\n",
        "        print('순번 : ', i, ' 에러 : ', error, ' 출력 : ', output)"
      ],
      "execution_count": 10,
      "outputs": [
        {
          "output_type": "stream",
          "text": [
            "순번 :  99  에러 :  0.0963741362340872  출력 :  0.9036258637659128\n",
            "순번 :  199  에러 :  0.050717324248411355  출력 :  0.9492826757515886\n",
            "순번 :  299  에러 :  0.03410319005267559  출력 :  0.9658968099473244\n",
            "순번 :  399  에러 :  0.025613373087948643  출력 :  0.9743866269120514\n",
            "순번 :  499  에러 :  0.020481531823238752  출력 :  0.9795184681767612\n",
            "순번 :  599  에러 :  0.01705122235030687  출력 :  0.9829487776496931\n",
            "순번 :  699  에러 :  0.014599211131432921  출력 :  0.9854007888685671\n",
            "순번 :  799  에러 :  0.01276043110721048  출력 :  0.9872395688927895\n",
            "순번 :  899  에러 :  0.011331080437559704  출력 :  0.9886689195624403\n",
            "순번 :  999  에러 :  0.010188413876725089  출력 :  0.9898115861232749\n"
          ],
          "name": "stdout"
        }
      ]
    }
  ]
}